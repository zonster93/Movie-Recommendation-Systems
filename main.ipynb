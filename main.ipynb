{
 "cells": [
  {
   "cell_type": "code",
   "execution_count": 22,
   "metadata": {},
   "outputs": [],
   "source": [
    "# Importing Essential libraries \n",
    "\n",
    "import pandas as pd\n",
    "import numpy as np\n",
    "import seaborn as sns\n",
    "import matplotlib.pyplot as plt"
   ]
  },
  {
   "cell_type": "code",
   "execution_count": 23,
   "metadata": {},
   "outputs": [],
   "source": [
    "# Loading the movies and ratings datasets into pandas DataFrames.\n",
    "movies = pd.read_csv(\"movies.csv\")\n",
    "ratings = pd.read_csv(\"ratings.csv\")"
   ]
  },
  {
   "cell_type": "code",
   "execution_count": 24,
   "metadata": {},
   "outputs": [
    {
     "data": {
      "text/html": [
       "<div>\n",
       "<style scoped>\n",
       "    .dataframe tbody tr th:only-of-type {\n",
       "        vertical-align: middle;\n",
       "    }\n",
       "\n",
       "    .dataframe tbody tr th {\n",
       "        vertical-align: top;\n",
       "    }\n",
       "\n",
       "    .dataframe thead th {\n",
       "        text-align: right;\n",
       "    }\n",
       "</style>\n",
       "<table border=\"1\" class=\"dataframe\">\n",
       "  <thead>\n",
       "    <tr style=\"text-align: right;\">\n",
       "      <th></th>\n",
       "      <th>userId</th>\n",
       "      <th>movieId</th>\n",
       "      <th>rating</th>\n",
       "      <th>timestamp</th>\n",
       "    </tr>\n",
       "  </thead>\n",
       "  <tbody>\n",
       "    <tr>\n",
       "      <th>0</th>\n",
       "      <td>1</td>\n",
       "      <td>16</td>\n",
       "      <td>4.0</td>\n",
       "      <td>1217897793</td>\n",
       "    </tr>\n",
       "    <tr>\n",
       "      <th>1</th>\n",
       "      <td>1</td>\n",
       "      <td>24</td>\n",
       "      <td>1.5</td>\n",
       "      <td>1217895807</td>\n",
       "    </tr>\n",
       "    <tr>\n",
       "      <th>2</th>\n",
       "      <td>1</td>\n",
       "      <td>32</td>\n",
       "      <td>4.0</td>\n",
       "      <td>1217896246</td>\n",
       "    </tr>\n",
       "    <tr>\n",
       "      <th>3</th>\n",
       "      <td>1</td>\n",
       "      <td>47</td>\n",
       "      <td>4.0</td>\n",
       "      <td>1217896556</td>\n",
       "    </tr>\n",
       "    <tr>\n",
       "      <th>4</th>\n",
       "      <td>1</td>\n",
       "      <td>50</td>\n",
       "      <td>4.0</td>\n",
       "      <td>1217896523</td>\n",
       "    </tr>\n",
       "  </tbody>\n",
       "</table>\n",
       "</div>"
      ],
      "text/plain": [
       "   userId  movieId  rating   timestamp\n",
       "0       1       16     4.0  1217897793\n",
       "1       1       24     1.5  1217895807\n",
       "2       1       32     4.0  1217896246\n",
       "3       1       47     4.0  1217896556\n",
       "4       1       50     4.0  1217896523"
      ]
     },
     "execution_count": 24,
     "metadata": {},
     "output_type": "execute_result"
    }
   ],
   "source": [
    "# Viewing the first five rows of the ratings DataFrame.\n",
    "ratings.head()"
   ]
  },
  {
   "cell_type": "code",
   "execution_count": 25,
   "metadata": {},
   "outputs": [
    {
     "data": {
      "text/html": [
       "<div>\n",
       "<style scoped>\n",
       "    .dataframe tbody tr th:only-of-type {\n",
       "        vertical-align: middle;\n",
       "    }\n",
       "\n",
       "    .dataframe tbody tr th {\n",
       "        vertical-align: top;\n",
       "    }\n",
       "\n",
       "    .dataframe thead th {\n",
       "        text-align: right;\n",
       "    }\n",
       "</style>\n",
       "<table border=\"1\" class=\"dataframe\">\n",
       "  <thead>\n",
       "    <tr style=\"text-align: right;\">\n",
       "      <th></th>\n",
       "      <th>movieId</th>\n",
       "      <th>title</th>\n",
       "      <th>genres</th>\n",
       "    </tr>\n",
       "  </thead>\n",
       "  <tbody>\n",
       "    <tr>\n",
       "      <th>0</th>\n",
       "      <td>1</td>\n",
       "      <td>Toy Story (1995)</td>\n",
       "      <td>Adventure|Animation|Children|Comedy|Fantasy</td>\n",
       "    </tr>\n",
       "    <tr>\n",
       "      <th>1</th>\n",
       "      <td>2</td>\n",
       "      <td>Jumanji (1995)</td>\n",
       "      <td>Adventure|Children|Fantasy</td>\n",
       "    </tr>\n",
       "    <tr>\n",
       "      <th>2</th>\n",
       "      <td>3</td>\n",
       "      <td>Grumpier Old Men (1995)</td>\n",
       "      <td>Comedy|Romance</td>\n",
       "    </tr>\n",
       "    <tr>\n",
       "      <th>3</th>\n",
       "      <td>4</td>\n",
       "      <td>Waiting to Exhale (1995)</td>\n",
       "      <td>Comedy|Drama|Romance</td>\n",
       "    </tr>\n",
       "    <tr>\n",
       "      <th>4</th>\n",
       "      <td>5</td>\n",
       "      <td>Father of the Bride Part II (1995)</td>\n",
       "      <td>Comedy</td>\n",
       "    </tr>\n",
       "  </tbody>\n",
       "</table>\n",
       "</div>"
      ],
      "text/plain": [
       "   movieId                               title  \\\n",
       "0        1                    Toy Story (1995)   \n",
       "1        2                      Jumanji (1995)   \n",
       "2        3             Grumpier Old Men (1995)   \n",
       "3        4            Waiting to Exhale (1995)   \n",
       "4        5  Father of the Bride Part II (1995)   \n",
       "\n",
       "                                        genres  \n",
       "0  Adventure|Animation|Children|Comedy|Fantasy  \n",
       "1                   Adventure|Children|Fantasy  \n",
       "2                               Comedy|Romance  \n",
       "3                         Comedy|Drama|Romance  \n",
       "4                                       Comedy  "
      ]
     },
     "execution_count": 25,
     "metadata": {},
     "output_type": "execute_result"
    }
   ],
   "source": [
    "# Viewing the first five rows of the movies DataFrame.\n",
    "movies.head()"
   ]
  },
  {
   "cell_type": "code",
   "execution_count": 26,
   "metadata": {},
   "outputs": [
    {
     "name": "stdout",
     "output_type": "stream",
     "text": [
      "(10331, 3)\n",
      "(105341, 4)\n"
     ]
    }
   ],
   "source": [
    "# Displaying the dimensions of the movies and ratings DataFrames.\n",
    "print(movies.shape)\n",
    "print(ratings.shape)"
   ]
  },
  {
   "cell_type": "code",
   "execution_count": 27,
   "metadata": {},
   "outputs": [
    {
     "name": "stdout",
     "output_type": "stream",
     "text": [
      "<class 'pandas.core.frame.DataFrame'>\n",
      "RangeIndex: 10331 entries, 0 to 10330\n",
      "Data columns (total 3 columns):\n",
      " #   Column   Non-Null Count  Dtype \n",
      "---  ------   --------------  ----- \n",
      " 0   movieId  10331 non-null  int64 \n",
      " 1   title    10331 non-null  object\n",
      " 2   genres   10331 non-null  object\n",
      "dtypes: int64(1), object(2)\n",
      "memory usage: 242.3+ KB\n"
     ]
    }
   ],
   "source": [
    "# Displays  Movies DataFrame summary.\n",
    "movies.info()"
   ]
  },
  {
   "cell_type": "code",
   "execution_count": 28,
   "metadata": {},
   "outputs": [
    {
     "name": "stdout",
     "output_type": "stream",
     "text": [
      "<class 'pandas.core.frame.DataFrame'>\n",
      "RangeIndex: 105341 entries, 0 to 105340\n",
      "Data columns (total 4 columns):\n",
      " #   Column     Non-Null Count   Dtype  \n",
      "---  ------     --------------   -----  \n",
      " 0   userId     105341 non-null  int64  \n",
      " 1   movieId    105341 non-null  int64  \n",
      " 2   rating     105341 non-null  float64\n",
      " 3   timestamp  105341 non-null  int64  \n",
      "dtypes: float64(1), int64(3)\n",
      "memory usage: 3.2 MB\n"
     ]
    }
   ],
   "source": [
    "# Displays  Ratings DataFrame summary.\n",
    "ratings.info()"
   ]
  },
  {
   "cell_type": "code",
   "execution_count": 29,
   "metadata": {},
   "outputs": [
    {
     "data": {
      "text/html": [
       "<div>\n",
       "<style scoped>\n",
       "    .dataframe tbody tr th:only-of-type {\n",
       "        vertical-align: middle;\n",
       "    }\n",
       "\n",
       "    .dataframe tbody tr th {\n",
       "        vertical-align: top;\n",
       "    }\n",
       "\n",
       "    .dataframe thead th {\n",
       "        text-align: right;\n",
       "    }\n",
       "</style>\n",
       "<table border=\"1\" class=\"dataframe\">\n",
       "  <thead>\n",
       "    <tr style=\"text-align: right;\">\n",
       "      <th></th>\n",
       "      <th>movieId</th>\n",
       "    </tr>\n",
       "  </thead>\n",
       "  <tbody>\n",
       "    <tr>\n",
       "      <th>count</th>\n",
       "      <td>10331.000000</td>\n",
       "    </tr>\n",
       "    <tr>\n",
       "      <th>mean</th>\n",
       "      <td>31947.051108</td>\n",
       "    </tr>\n",
       "    <tr>\n",
       "      <th>std</th>\n",
       "      <td>37766.552634</td>\n",
       "    </tr>\n",
       "    <tr>\n",
       "      <th>min</th>\n",
       "      <td>1.000000</td>\n",
       "    </tr>\n",
       "    <tr>\n",
       "      <th>25%</th>\n",
       "      <td>3241.500000</td>\n",
       "    </tr>\n",
       "    <tr>\n",
       "      <th>50%</th>\n",
       "      <td>7089.000000</td>\n",
       "    </tr>\n",
       "    <tr>\n",
       "      <th>75%</th>\n",
       "      <td>59909.000000</td>\n",
       "    </tr>\n",
       "    <tr>\n",
       "      <th>max</th>\n",
       "      <td>149534.000000</td>\n",
       "    </tr>\n",
       "  </tbody>\n",
       "</table>\n",
       "</div>"
      ],
      "text/plain": [
       "             movieId\n",
       "count   10331.000000\n",
       "mean    31947.051108\n",
       "std     37766.552634\n",
       "min         1.000000\n",
       "25%      3241.500000\n",
       "50%      7089.000000\n",
       "75%     59909.000000\n",
       "max    149534.000000"
      ]
     },
     "execution_count": 29,
     "metadata": {},
     "output_type": "execute_result"
    }
   ],
   "source": [
    "# Summary statistics of Movies : count, mean, std, min, quartiles, max\n",
    "movies.describe()"
   ]
  },
  {
   "cell_type": "code",
   "execution_count": 30,
   "metadata": {},
   "outputs": [
    {
     "data": {
      "text/html": [
       "<div>\n",
       "<style scoped>\n",
       "    .dataframe tbody tr th:only-of-type {\n",
       "        vertical-align: middle;\n",
       "    }\n",
       "\n",
       "    .dataframe tbody tr th {\n",
       "        vertical-align: top;\n",
       "    }\n",
       "\n",
       "    .dataframe thead th {\n",
       "        text-align: right;\n",
       "    }\n",
       "</style>\n",
       "<table border=\"1\" class=\"dataframe\">\n",
       "  <thead>\n",
       "    <tr style=\"text-align: right;\">\n",
       "      <th></th>\n",
       "      <th>userId</th>\n",
       "      <th>movieId</th>\n",
       "      <th>rating</th>\n",
       "      <th>timestamp</th>\n",
       "    </tr>\n",
       "  </thead>\n",
       "  <tbody>\n",
       "    <tr>\n",
       "      <th>count</th>\n",
       "      <td>105341.000000</td>\n",
       "      <td>105341.000000</td>\n",
       "      <td>105341.000000</td>\n",
       "      <td>1.053410e+05</td>\n",
       "    </tr>\n",
       "    <tr>\n",
       "      <th>mean</th>\n",
       "      <td>364.930293</td>\n",
       "      <td>13383.897457</td>\n",
       "      <td>3.516869</td>\n",
       "      <td>1.130430e+09</td>\n",
       "    </tr>\n",
       "    <tr>\n",
       "      <th>std</th>\n",
       "      <td>197.489445</td>\n",
       "      <td>26176.931765</td>\n",
       "      <td>1.044871</td>\n",
       "      <td>1.802697e+08</td>\n",
       "    </tr>\n",
       "    <tr>\n",
       "      <th>min</th>\n",
       "      <td>1.000000</td>\n",
       "      <td>1.000000</td>\n",
       "      <td>0.500000</td>\n",
       "      <td>8.285650e+08</td>\n",
       "    </tr>\n",
       "    <tr>\n",
       "      <th>25%</th>\n",
       "      <td>192.000000</td>\n",
       "      <td>1073.000000</td>\n",
       "      <td>3.000000</td>\n",
       "      <td>9.711008e+08</td>\n",
       "    </tr>\n",
       "    <tr>\n",
       "      <th>50%</th>\n",
       "      <td>383.000000</td>\n",
       "      <td>2497.000000</td>\n",
       "      <td>3.500000</td>\n",
       "      <td>1.115154e+09</td>\n",
       "    </tr>\n",
       "    <tr>\n",
       "      <th>75%</th>\n",
       "      <td>557.000000</td>\n",
       "      <td>5991.000000</td>\n",
       "      <td>4.000000</td>\n",
       "      <td>1.275496e+09</td>\n",
       "    </tr>\n",
       "    <tr>\n",
       "      <th>max</th>\n",
       "      <td>668.000000</td>\n",
       "      <td>149534.000000</td>\n",
       "      <td>5.000000</td>\n",
       "      <td>1.452405e+09</td>\n",
       "    </tr>\n",
       "  </tbody>\n",
       "</table>\n",
       "</div>"
      ],
      "text/plain": [
       "              userId        movieId         rating     timestamp\n",
       "count  105341.000000  105341.000000  105341.000000  1.053410e+05\n",
       "mean      364.930293   13383.897457       3.516869  1.130430e+09\n",
       "std       197.489445   26176.931765       1.044871  1.802697e+08\n",
       "min         1.000000       1.000000       0.500000  8.285650e+08\n",
       "25%       192.000000    1073.000000       3.000000  9.711008e+08\n",
       "50%       383.000000    2497.000000       3.500000  1.115154e+09\n",
       "75%       557.000000    5991.000000       4.000000  1.275496e+09\n",
       "max       668.000000  149534.000000       5.000000  1.452405e+09"
      ]
     },
     "execution_count": 30,
     "metadata": {},
     "output_type": "execute_result"
    }
   ],
   "source": [
    "# Summary statistics of Ratings: count, mean, std, min, quartiles, max\n",
    "ratings.describe()"
   ]
  },
  {
   "cell_type": "code",
   "execution_count": 31,
   "metadata": {},
   "outputs": [
    {
     "data": {
      "text/html": [
       "<div>\n",
       "<style scoped>\n",
       "    .dataframe tbody tr th:only-of-type {\n",
       "        vertical-align: middle;\n",
       "    }\n",
       "\n",
       "    .dataframe tbody tr th {\n",
       "        vertical-align: top;\n",
       "    }\n",
       "\n",
       "    .dataframe thead th {\n",
       "        text-align: right;\n",
       "    }\n",
       "</style>\n",
       "<table border=\"1\" class=\"dataframe\">\n",
       "  <thead>\n",
       "    <tr style=\"text-align: right;\">\n",
       "      <th></th>\n",
       "      <th>movieId</th>\n",
       "      <th>title</th>\n",
       "      <th>genres</th>\n",
       "    </tr>\n",
       "  </thead>\n",
       "  <tbody>\n",
       "    <tr>\n",
       "      <th>6270</th>\n",
       "      <td>26982</td>\n",
       "      <td>Men with Guns (1997)</td>\n",
       "      <td>Drama</td>\n",
       "    </tr>\n",
       "    <tr>\n",
       "      <th>7963</th>\n",
       "      <td>64997</td>\n",
       "      <td>War of the Worlds (2005)</td>\n",
       "      <td>Action|Sci-Fi</td>\n",
       "    </tr>\n",
       "  </tbody>\n",
       "</table>\n",
       "</div>"
      ],
      "text/plain": [
       "      movieId                     title         genres\n",
       "6270    26982      Men with Guns (1997)          Drama\n",
       "7963    64997  War of the Worlds (2005)  Action|Sci-Fi"
      ]
     },
     "execution_count": 31,
     "metadata": {},
     "output_type": "execute_result"
    }
   ],
   "source": [
    "# Filter duplicates: rows with duplicated 'title' values\n",
    "movies[movies['title'].duplicated()]"
   ]
  },
  {
   "cell_type": "code",
   "execution_count": 32,
   "metadata": {},
   "outputs": [],
   "source": [
    "# Drop rows where 'movieId' equals 26982\n",
    "movies.drop(movies.loc[movies['movieId']==26982].index, inplace=True)\n"
   ]
  },
  {
   "cell_type": "code",
   "execution_count": 33,
   "metadata": {},
   "outputs": [],
   "source": [
    "# Remove rows with 'movieId' equal to 64997\n",
    "movies.drop(movies.loc[movies['movieId']==64997].index, inplace=True)\n"
   ]
  },
  {
   "cell_type": "code",
   "execution_count": 34,
   "metadata": {},
   "outputs": [
    {
     "data": {
      "text/plain": [
       "userId       0\n",
       "movieId      0\n",
       "rating       0\n",
       "timestamp    0\n",
       "dtype: int64"
      ]
     },
     "execution_count": 34,
     "metadata": {},
     "output_type": "execute_result"
    }
   ],
   "source": [
    "# Count of missing values for each column in ratings\n",
    "ratings.isnull().sum()\n"
   ]
  },
  {
   "cell_type": "code",
   "execution_count": 35,
   "metadata": {},
   "outputs": [
    {
     "data": {
      "text/plain": [
       "movieId    0\n",
       "title      0\n",
       "genres     0\n",
       "dtype: int64"
      ]
     },
     "execution_count": 35,
     "metadata": {},
     "output_type": "execute_result"
    }
   ],
   "source": [
    "# Count of missing values for each column in movies\n",
    "movies.isnull().sum()"
   ]
  },
  {
   "cell_type": "code",
   "execution_count": 36,
   "metadata": {},
   "outputs": [
    {
     "data": {
      "text/plain": [
       "userId       0\n",
       "movieId      0\n",
       "rating       0\n",
       "timestamp    0\n",
       "dtype: int64"
      ]
     },
     "execution_count": 36,
     "metadata": {},
     "output_type": "execute_result"
    }
   ],
   "source": [
    "ratings.isnull().sum()\n",
    "\n",
    "\n"
   ]
  },
  {
   "cell_type": "code",
   "execution_count": 37,
   "metadata": {},
   "outputs": [
    {
     "data": {
      "text/html": [
       "<div>\n",
       "<style scoped>\n",
       "    .dataframe tbody tr th:only-of-type {\n",
       "        vertical-align: middle;\n",
       "    }\n",
       "\n",
       "    .dataframe tbody tr th {\n",
       "        vertical-align: top;\n",
       "    }\n",
       "\n",
       "    .dataframe thead th {\n",
       "        text-align: right;\n",
       "    }\n",
       "</style>\n",
       "<table border=\"1\" class=\"dataframe\">\n",
       "  <thead>\n",
       "    <tr style=\"text-align: right;\">\n",
       "      <th></th>\n",
       "      <th>userId</th>\n",
       "      <th>movieId</th>\n",
       "      <th>rating</th>\n",
       "      <th>title</th>\n",
       "      <th>genres</th>\n",
       "    </tr>\n",
       "  </thead>\n",
       "  <tbody>\n",
       "    <tr>\n",
       "      <th>0</th>\n",
       "      <td>1</td>\n",
       "      <td>16</td>\n",
       "      <td>4.0</td>\n",
       "      <td>Casino (1995)</td>\n",
       "      <td>Crime|Drama</td>\n",
       "    </tr>\n",
       "    <tr>\n",
       "      <th>1</th>\n",
       "      <td>1</td>\n",
       "      <td>24</td>\n",
       "      <td>1.5</td>\n",
       "      <td>Powder (1995)</td>\n",
       "      <td>Drama|Sci-Fi</td>\n",
       "    </tr>\n",
       "    <tr>\n",
       "      <th>2</th>\n",
       "      <td>1</td>\n",
       "      <td>32</td>\n",
       "      <td>4.0</td>\n",
       "      <td>Twelve Monkeys (a.k.a. 12 Monkeys) (1995)</td>\n",
       "      <td>Mystery|Sci-Fi|Thriller</td>\n",
       "    </tr>\n",
       "    <tr>\n",
       "      <th>3</th>\n",
       "      <td>1</td>\n",
       "      <td>47</td>\n",
       "      <td>4.0</td>\n",
       "      <td>Seven (a.k.a. Se7en) (1995)</td>\n",
       "      <td>Mystery|Thriller</td>\n",
       "    </tr>\n",
       "    <tr>\n",
       "      <th>4</th>\n",
       "      <td>1</td>\n",
       "      <td>50</td>\n",
       "      <td>4.0</td>\n",
       "      <td>Usual Suspects, The (1995)</td>\n",
       "      <td>Crime|Mystery|Thriller</td>\n",
       "    </tr>\n",
       "    <tr>\n",
       "      <th>...</th>\n",
       "      <td>...</td>\n",
       "      <td>...</td>\n",
       "      <td>...</td>\n",
       "      <td>...</td>\n",
       "      <td>...</td>\n",
       "    </tr>\n",
       "    <tr>\n",
       "      <th>105331</th>\n",
       "      <td>668</td>\n",
       "      <td>143385</td>\n",
       "      <td>4.0</td>\n",
       "      <td>Bridge of Spies (2015)</td>\n",
       "      <td>Drama|Thriller</td>\n",
       "    </tr>\n",
       "    <tr>\n",
       "      <th>105332</th>\n",
       "      <td>668</td>\n",
       "      <td>144976</td>\n",
       "      <td>2.5</td>\n",
       "      <td>Bone Tomahawk (2015)</td>\n",
       "      <td>Horror|Western</td>\n",
       "    </tr>\n",
       "    <tr>\n",
       "      <th>105333</th>\n",
       "      <td>668</td>\n",
       "      <td>148626</td>\n",
       "      <td>4.5</td>\n",
       "      <td>The Big Short (2015)</td>\n",
       "      <td>Drama</td>\n",
       "    </tr>\n",
       "    <tr>\n",
       "      <th>105334</th>\n",
       "      <td>668</td>\n",
       "      <td>149533</td>\n",
       "      <td>4.5</td>\n",
       "      <td>Avengers</td>\n",
       "      <td>Animation|Children|Comedy</td>\n",
       "    </tr>\n",
       "    <tr>\n",
       "      <th>105335</th>\n",
       "      <td>668</td>\n",
       "      <td>149534</td>\n",
       "      <td>4.5</td>\n",
       "      <td>Avengers 2</td>\n",
       "      <td>Animation|Children|Comedy</td>\n",
       "    </tr>\n",
       "  </tbody>\n",
       "</table>\n",
       "<p>105336 rows × 5 columns</p>\n",
       "</div>"
      ],
      "text/plain": [
       "        userId  movieId  rating                                      title  \\\n",
       "0            1       16     4.0                              Casino (1995)   \n",
       "1            1       24     1.5                              Powder (1995)   \n",
       "2            1       32     4.0  Twelve Monkeys (a.k.a. 12 Monkeys) (1995)   \n",
       "3            1       47     4.0                Seven (a.k.a. Se7en) (1995)   \n",
       "4            1       50     4.0                 Usual Suspects, The (1995)   \n",
       "...        ...      ...     ...                                        ...   \n",
       "105331     668   143385     4.0                     Bridge of Spies (2015)   \n",
       "105332     668   144976     2.5                       Bone Tomahawk (2015)   \n",
       "105333     668   148626     4.5                       The Big Short (2015)   \n",
       "105334     668   149533     4.5                                   Avengers   \n",
       "105335     668   149534     4.5                                 Avengers 2   \n",
       "\n",
       "                           genres  \n",
       "0                     Crime|Drama  \n",
       "1                    Drama|Sci-Fi  \n",
       "2         Mystery|Sci-Fi|Thriller  \n",
       "3                Mystery|Thriller  \n",
       "4          Crime|Mystery|Thriller  \n",
       "...                           ...  \n",
       "105331             Drama|Thriller  \n",
       "105332             Horror|Western  \n",
       "105333                      Drama  \n",
       "105334  Animation|Children|Comedy  \n",
       "105335  Animation|Children|Comedy  \n",
       "\n",
       "[105336 rows x 5 columns]"
      ]
     },
     "execution_count": 37,
     "metadata": {},
     "output_type": "execute_result"
    }
   ],
   "source": [
    "# Merge ratings and movies, drop 'timestamp' column\n",
    "movies_ratings = pd.merge(ratings, movies, on='movieId')\n",
    "movies_ratings.drop('timestamp', axis=1, inplace=True)\n",
    "movies_ratings"
   ]
  },
  {
   "cell_type": "code",
   "execution_count": 38,
   "metadata": {},
   "outputs": [],
   "source": [
    "# Remove duplicate rows from movies_ratings DataFrame\n",
    "movies_ratings.drop_duplicates(inplace=True)\n"
   ]
  },
  {
   "cell_type": "markdown",
   "metadata": {},
   "source": [
    "Highest Rated Movies"
   ]
  },
  {
   "cell_type": "code",
   "execution_count": 39,
   "metadata": {},
   "outputs": [
    {
     "data": {
      "text/html": [
       "<div>\n",
       "<style scoped>\n",
       "    .dataframe tbody tr th:only-of-type {\n",
       "        vertical-align: middle;\n",
       "    }\n",
       "\n",
       "    .dataframe tbody tr th {\n",
       "        vertical-align: top;\n",
       "    }\n",
       "\n",
       "    .dataframe thead th {\n",
       "        text-align: right;\n",
       "    }\n",
       "</style>\n",
       "<table border=\"1\" class=\"dataframe\">\n",
       "  <thead>\n",
       "    <tr style=\"text-align: right;\">\n",
       "      <th></th>\n",
       "      <th>rating</th>\n",
       "    </tr>\n",
       "    <tr>\n",
       "      <th>title</th>\n",
       "      <th></th>\n",
       "    </tr>\n",
       "  </thead>\n",
       "  <tbody>\n",
       "    <tr>\n",
       "      <th>Shawshank Redemption, The (1994)</th>\n",
       "      <td>1372.0</td>\n",
       "    </tr>\n",
       "    <tr>\n",
       "      <th>Pulp Fiction (1994)</th>\n",
       "      <td>1352.0</td>\n",
       "    </tr>\n",
       "    <tr>\n",
       "      <th>Forrest Gump (1994)</th>\n",
       "      <td>1287.0</td>\n",
       "    </tr>\n",
       "    <tr>\n",
       "      <th>Silence of the Lambs, The (1991)</th>\n",
       "      <td>1216.5</td>\n",
       "    </tr>\n",
       "    <tr>\n",
       "      <th>Star Wars: Episode IV - A New Hope (1977)</th>\n",
       "      <td>1143.5</td>\n",
       "    </tr>\n",
       "    <tr>\n",
       "      <th>Matrix, The (1999)</th>\n",
       "      <td>1113.0</td>\n",
       "    </tr>\n",
       "    <tr>\n",
       "      <th>Jurassic Park (1993)</th>\n",
       "      <td>1076.0</td>\n",
       "    </tr>\n",
       "    <tr>\n",
       "      <th>Schindler's List (1993)</th>\n",
       "      <td>1065.5</td>\n",
       "    </tr>\n",
       "    <tr>\n",
       "      <th>Braveheart (1995)</th>\n",
       "      <td>1019.0</td>\n",
       "    </tr>\n",
       "    <tr>\n",
       "      <th>Terminator 2: Judgment Day (1991)</th>\n",
       "      <td>1002.0</td>\n",
       "    </tr>\n",
       "  </tbody>\n",
       "</table>\n",
       "</div>"
      ],
      "text/plain": [
       "                                           rating\n",
       "title                                            \n",
       "Shawshank Redemption, The (1994)           1372.0\n",
       "Pulp Fiction (1994)                        1352.0\n",
       "Forrest Gump (1994)                        1287.0\n",
       "Silence of the Lambs, The (1991)           1216.5\n",
       "Star Wars: Episode IV - A New Hope (1977)  1143.5\n",
       "Matrix, The (1999)                         1113.0\n",
       "Jurassic Park (1993)                       1076.0\n",
       "Schindler's List (1993)                    1065.5\n",
       "Braveheart (1995)                          1019.0\n",
       "Terminator 2: Judgment Day (1991)          1002.0"
      ]
     },
     "execution_count": 39,
     "metadata": {},
     "output_type": "execute_result"
    }
   ],
   "source": [
    "# Top 10 movies by total rating, grouped and sorted by rating\n",
    "top_movies = movies_ratings[['title', 'rating']].groupby('title').sum().sort_values('rating', ascending=False).head(10)\n",
    "top_movies"
   ]
  },
  {
   "cell_type": "code",
   "execution_count": 40,
   "metadata": {},
   "outputs": [
    {
     "name": "stderr",
     "output_type": "stream",
     "text": [
      "C:\\Users\\zakir hussain\\AppData\\Local\\Temp\\ipykernel_27092\\3642189084.py:4: FutureWarning: \n",
      "\n",
      "Passing `palette` without assigning `hue` is deprecated and will be removed in v0.14.0. Assign the `x` variable to `hue` and set `legend=False` for the same effect.\n",
      "\n",
      "  c1 = sns.barplot(x=top_movies.index, y='rating', data=top_movies, palette=sns.color_palette())\n"
     ]
    },
    {
     "data": {
      "image/png": "[encoded data removed]",
      "text/plain": [
       "<Figure size 800x800 with 1 Axes>"
      ]
     },
     "metadata": {},
     "output_type": "display_data"
    }
   ],
   "source": [
    "# Plot top 10 movies by total ratings with bar labels\n",
    "plt.figure(figsize=(8,8))\n",
    "colors = ['blue','orange','gold']\n",
    "c1 = sns.barplot(x=top_movies.index, y='rating', data=top_movies, palette=sns.color_palette())\n",
    "c1.bar_label(c1.containers[0])\n",
    "plt.xticks(rotation=90)\n",
    "plt.title(\"Highest Rated 10 Movies\")\n",
    "plt.ylabel(\"Total Ratings\", fontsize=11)\n",
    "plt.xlabel(\"Movies\", fontsize=11)\n",
    "plt.show()\n"
   ]
  },
  {
   "cell_type": "markdown",
   "metadata": {},
   "source": [
    "OBJECTIVE 1:\n",
    "\n"
   ]
  },
  {
   "cell_type": "markdown",
   "metadata": {},
   "source": [
    "Popularity-based recommender system at a genre level"
   ]
  },
  {
   "cell_type": "markdown",
   "metadata": {},
   "source": [
    "-Filter movies by genre and ensure each has at least (t) reviews."
   ]
  },
  {
   "cell_type": "markdown",
   "metadata": {},
   "source": [
    "-Recommend top N movies, sorted by ratings in descending order."
   ]
  },
  {
   "cell_type": "code",
   "execution_count": 41,
   "metadata": {},
   "outputs": [
    {
     "name": "stdout",
     "output_type": "stream",
     "text": [
      "                       title  average_rating  num_reviews\n",
      "0               Fargo (1996)        4.271144          201\n",
      "1        Pulp Fiction (1994)        4.160000          325\n",
      "2        Forrest Gump (1994)        4.138264          311\n",
      "3  Back to the Future (1985)        3.943662          213\n",
      "4           Toy Story (1995)        3.907328          232\n"
     ]
    }
   ],
   "source": [
    "def popularity_recommender(genre, min_reviews, num_recommendations):\n",
    "    # Filter movies that contain the specified genre\n",
    "    genre_movies = movies_ratings[movies_ratings['genres'].str.contains(genre)]\n",
    "    \n",
    "    # Group by title and calculate the average rating and count of reviews for each movie\n",
    "    movie_stats = genre_movies.groupby('title').agg({'rating': ['mean', 'count']})\n",
    "    movie_stats.columns = ['average_rating', 'num_reviews']\n",
    "    \n",
    "    # Filter movies by the minimum number of reviews\n",
    "    popular_movies = movie_stats[movie_stats['num_reviews'] >= min_reviews]\n",
    "    \n",
    "    if popular_movies.empty:\n",
    "        return \"No movies found for the given genre and minimum review threshold.\"\n",
    "    \n",
    "    # Sort the filtered movies by average rating in descending order and select the top N movies\n",
    "    top_movies = popular_movies.sort_values(by='average_rating', ascending=False).head(num_recommendations)\n",
    "    \n",
    "    return top_movies.reset_index()\n",
    "\n",
    "# Example input\n",
    "genre = 'Comedy'  # The genre we want to filter by\n",
    "min_reviews= 200  # Minimum number of reviews for a movie to be considered\n",
    "num_recommendations = 5  # The number of top movies to recommend\n",
    "\n",
    "# Get recommendations\n",
    "recommendations = popularity_recommender(genre, min_reviews, num_recommendations)\n",
    "print(recommendations)\n",
    "\n"
   ]
  },
  {
   "cell_type": "markdown",
   "metadata": {},
   "source": [
    "Objective 2:-"
   ]
  },
  {
   "cell_type": "markdown",
   "metadata": {},
   "source": [
    "-Create a content-based recommender system that recommends top N movies based on similar movie(m) genres."
   ]
  },
  {
   "cell_type": "code",
   "execution_count": 42,
   "metadata": {},
   "outputs": [
    {
     "name": "stderr",
     "output_type": "stream",
     "text": [
      "c:\\Users\\zakir hussain\\anaconda3\\envs\\myenv\\Lib\\site-packages\\sklearn\\feature_extraction\\text.py:521: UserWarning: The parameter 'token_pattern' will not be used since 'tokenizer' is not None'\n",
      "  warnings.warn(\n"
     ]
    },
    {
     "name": "stdout",
     "output_type": "stream",
     "text": [
      "                                                   title  \\\n",
      "4621                                 Return to Oz (1985)   \n",
      "75282   Chronicles of Narnia: Prince Caspian, The (2008)   \n",
      "22718  Chronicles of Narnia: The Lion, the Witch and ...   \n",
      "57596  Chronicles of Narnia: The Lion, the Witch and ...   \n",
      "91460                                     Jumanji (1995)   \n",
      "\n",
      "                           genres  \n",
      "4621   Adventure|Children|Fantasy  \n",
      "75282  Adventure|Children|Fantasy  \n",
      "22718  Adventure|Children|Fantasy  \n",
      "57596  Adventure|Children|Fantasy  \n",
      "91460  Adventure|Children|Fantasy  \n"
     ]
    }
   ],
   "source": [
    "from sklearn.metrics.pairwise import cosine_similarity\n",
    "from sklearn.feature_extraction.text import CountVectorizer\n",
    "\n",
    "def content_based_recommender(movie_title, num_recommendations):\n",
    "    # Find the row index of the input movie title\n",
    "    if movie_title not in movies_ratings['title'].values:\n",
    "        return f\"Movie title '{movie_title}' not found in the dataset.\"\n",
    "    \n",
    "    movie_index = movies_ratings[movies_ratings['title'] == movie_title].index[0]\n",
    "    \n",
    "    # Extract genres of all movies\n",
    "    genres = movies_ratings['genres']\n",
    "    \n",
    "    # Initialize CountVectorizer to convert text data into token counts\n",
    "    count_vectorizer = CountVectorizer(tokenizer=lambda x: x.split('|'))\n",
    "    genre_matrix = count_vectorizer.fit_transform(genres)\n",
    "    \n",
    "    # Calculate cosine similarity between the input movie and all other movies\n",
    "    similarity_scores = cosine_similarity(genre_matrix[movie_index], genre_matrix).flatten()\n",
    "    \n",
    "    # Get indices of movies sorted by similarity scores\n",
    "    sorted_movie_indices = similarity_scores.argsort()[::-1]\n",
    "    \n",
    "    # Exclude the input movie itself\n",
    "    sorted_movie_indices = sorted_movie_indices[1:num_recommendations + 1]\n",
    "    \n",
    "    # Recommend top N similar movies\n",
    "    recommended_movies = movies_ratings.iloc[sorted_movie_indices]\n",
    "    \n",
    "    return recommended_movies[['title', 'genres']]\n",
    "\n",
    "# Example input\n",
    "movie_title = 'Jumanji (1995)'\n",
    "num_recommendations = 5\n",
    "\n",
    "# Get recommendations\n",
    "recommendations = content_based_recommender(movie_title, num_recommendations)\n",
    "print(recommendations)\n"
   ]
  },
  {
   "cell_type": "markdown",
   "metadata": {},
   "source": [
    "Objective-3"
   ]
  },
  {
   "cell_type": "markdown",
   "metadata": {},
   "source": [
    "Create a collaborative based recommender system which recommends top N movies based on “K” similar users for a target user “u”"
   ]
  },
  {
   "cell_type": "code",
   "execution_count": 43,
   "metadata": {},
   "outputs": [
    {
     "name": "stdout",
     "output_type": "stream",
     "text": [
      "                                               title\n",
      "0                 Cold Fever (Á köldum klaka) (1995)\n",
      "1                                  Three Ages (1923)\n",
      "2                                   Swan, The (1956)\n",
      "3                                Cowboys, The (1972)\n",
      "4                           Symbol (Shinboru) (2009)\n",
      "5                      Waiting for 'Superman' (2010)\n",
      "6  Ghost in the Shell: Stand Alone Complex - The ...\n",
      "7                                       Feast (2014)\n",
      "8                                The Revenant (2015)\n",
      "9                 Everything's Gonna Be Great (1998)\n"
     ]
    }
   ],
   "source": [
    "from sklearn.metrics.pairwise import cosine_similarity\n",
    "\n",
    "# Create a user-movie rating matrix (rows: users, columns: movies)\n",
    "user_movie_ratings = movies_ratings.pivot_table(index='userId', columns='movieId', values='rating')\n",
    "\n",
    "\n",
    "def collaborative_recommender(user_id, num_recommendations, k_similar_users):\n",
    "    # Step 1: Calculate cosine similarity between all users\n",
    "    user_similarity = cosine_similarity(user_movie_ratings.fillna(0))\n",
    "    \n",
    "    \n",
    "    # Step 2: Get the similarity scores for the target user\n",
    "    user_idx = user_id - 1  # userId starts from 1, but array indexing is 0-based\n",
    "    similar_users = list(enumerate(user_similarity[user_idx]))\n",
    "    \n",
    "    # Step 3: Sort users by similarity score in descending order\n",
    "    similar_users = sorted(similar_users, key=lambda x: x[1], reverse=True)\n",
    "    \n",
    "    # Step 4: Select the top K similar users (excluding the target user)\n",
    "    similar_users = similar_users[1:k_similar_users+1]  # Exclude self, and get top K\n",
    "    \n",
    "    # Step 5: Gather movie ratings from these similar users\n",
    "    similar_user_ids = [user[0] + 1 for user in similar_users]  # Converting index back to userId\n",
    "    similar_users_ratings = user_movie_ratings.loc[similar_user_ids]\n",
    "    \n",
    "    # Step 6: Find movies that the target user has not rated\n",
    "    target_user_ratings = user_movie_ratings.loc[user_id]\n",
    "    unrated_movies = target_user_ratings[target_user_ratings.isna()].index\n",
    "    \n",
    "    # Step 7: Get average ratings for the unrated movies from similar users\n",
    "    similar_users_ratings_for_unrated = similar_users_ratings[unrated_movies]\n",
    "    avg_ratings_for_unrated = similar_users_ratings_for_unrated.mean().sort_values(ascending=False)\n",
    "    \n",
    "    # Step 8: Get the top N movie recommendations\n",
    "    top_movie_ids = avg_ratings_for_unrated.head(num_recommendations).index\n",
    "    \n",
    "    # Step 9: Get the movie titles for the top N recommendations\n",
    "    top_movies = movies[movies['movieId'].isin(top_movie_ids)]\n",
    "    \n",
    "    if top_movies.empty:\n",
    "        return \"No recommendations available based on the current users.\"\n",
    "    \n",
    "    return top_movies[['title']].reset_index(drop=True)\n",
    "\n",
    "# Example Input:\n",
    "user_id = 1\n",
    "num_recommendations = 10\n",
    "k_similar_users = 1000\n",
    "\n",
    "# Get recommendations\n",
    "recommendations = collaborative_recommender(user_id, num_recommendations, k_similar_users)\n",
    "print(recommendations)\n"
   ]
  },
  {
   "cell_type": "code",
   "execution_count": 44,
   "metadata": {},
   "outputs": [
    {
     "name": "stdout",
     "output_type": "stream",
     "text": [
      "Recommendation for movie :  Cop Car (2015)\n",
      "\n"
     ]
    }
   ],
   "source": [
    "import random\n",
    "movie=random.choice(movies_ratings.title.unique())\n",
    "print(\"Recommendation for movie :  {}\\n\".format(movie))\n"
   ]
  },
  {
   "cell_type": "code",
   "execution_count": 45,
   "metadata": {},
   "outputs": [
    {
     "name": "stdout",
     "output_type": "stream",
     "text": [
      "movieId  1       2       3       4       5       6       7       8       \\\n",
      "userId                                                                    \n",
      "1           NaN     NaN     NaN     NaN     NaN     NaN     NaN     NaN   \n",
      "2           5.0     NaN     2.0     NaN     3.0     NaN     NaN     NaN   \n",
      "3           NaN     NaN     NaN     NaN     3.0     NaN     3.0     NaN   \n",
      "4           NaN     NaN     NaN     NaN     NaN     NaN     NaN     NaN   \n",
      "5           4.0     NaN     NaN     NaN     NaN     NaN     NaN     NaN   \n",
      "\n",
      "movieId  9       10      ...  144976  146344  146656  146684  146878  148238  \\\n",
      "userId                   ...                                                   \n",
      "1           NaN     NaN  ...     NaN     NaN     NaN     NaN     NaN     NaN   \n",
      "2           NaN     NaN  ...     NaN     NaN     NaN     NaN     NaN     NaN   \n",
      "3           NaN     NaN  ...     NaN     NaN     NaN     NaN     NaN     NaN   \n",
      "4           NaN     NaN  ...     NaN     NaN     NaN     NaN     NaN     NaN   \n",
      "5           NaN     NaN  ...     NaN     NaN     NaN     NaN     NaN     NaN   \n",
      "\n",
      "movieId  148626  149532  149533  149534  \n",
      "userId                                   \n",
      "1           NaN     NaN     NaN     NaN  \n",
      "2           NaN     NaN     NaN     NaN  \n",
      "3           NaN     NaN     NaN     NaN  \n",
      "4           NaN     NaN     NaN     NaN  \n",
      "5           NaN     NaN     NaN     NaN  \n",
      "\n",
      "[5 rows x 10325 columns]\n"
     ]
    }
   ],
   "source": [
    "# Show the first 5 rows of the pivot table\n",
    "print(user_movie_ratings.head())\n"
   ]
  },
  {
   "cell_type": "code",
   "execution_count": null,
   "metadata": {},
   "outputs": [],
   "source": []
  }
 ],
 "metadata": {
  "kernelspec": {
   "display_name": "myenv",
   "language": "python",
   "name": "python3"
  },
  "language_info": {
   "codemirror_mode": {
    "name": "ipython",
    "version": 3
   },
   "file_extension": ".py",
   "mimetype": "text/x-python",
   "name": "python",
   "nbconvert_exporter": "python",
   "pygments_lexer": "ipython3",
   "version": "3.11.7"
  }
 },
 "nbformat": 4,
 "nbformat_minor": 2
}
